{
 "cells": [
  {
   "cell_type": "code",
   "execution_count": 1,
   "id": "ad33809f-89ea-442a-b190-31af6b7f9e7c",
   "metadata": {},
   "outputs": [],
   "source": [
    "def addition(a, b):\n",
    "    print(a + b)"
   ]
  },
  {
   "cell_type": "code",
   "execution_count": 2,
   "id": "1e639d98-874d-4a04-b919-c78f36c39cc3",
   "metadata": {},
   "outputs": [
    {
     "name": "stdout",
     "output_type": "stream",
     "text": [
      "8\n"
     ]
    }
   ],
   "source": [
    "addition(3, 5)"
   ]
  },
  {
   "cell_type": "code",
   "execution_count": null,
   "id": "852ae0eb-97b8-468c-98a8-0e46cd3db1a6",
   "metadata": {},
   "outputs": [],
   "source": []
  }
 ],
 "metadata": {
  "kernelspec": {
   "display_name": "Python 3 (ipykernel)",
   "language": "python",
   "name": "python3"
  },
  "language_info": {
   "codemirror_mode": {
    "name": "ipython",
    "version": 3
   },
   "file_extension": ".py",
   "mimetype": "text/x-python",
   "name": "python",
   "nbconvert_exporter": "python",
   "pygments_lexer": "ipython3",
   "version": "3.11.7"
  }
 },
 "nbformat": 4,
 "nbformat_minor": 5
}
